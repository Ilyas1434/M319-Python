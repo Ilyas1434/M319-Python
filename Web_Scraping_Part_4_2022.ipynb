{
 "cells": [
  {
   "cell_type": "markdown",
   "metadata": {},
   "source": [
    "# <u>Web Scraping</u>\n",
    "\n",
    "## <u>Part \\#4: Getting XML from RSS Feeds</u>\n",
    "\n",
    "### <u>What is an RSS feed?</u>\n",
    "\n",
    "RSS stands for \"Really Simple Syndication.\" It's just a page of data conforming to the XML format that is updated frequently and can be processed in an automated way."
   ]
  },
  {
   "cell_type": "markdown",
   "metadata": {},
   "source": [
    "### <u>Exploring Some RSS Feeds</u>\n",
    "\n",
    "Many organizations have RSS feeds. Some links are provided below that will allow you to find some of these feeds. Spend a few minutes exploring some prominent examples using Google Chrome. \n",
    "\n",
    "*Note: If the RSS feed you are looking at is a collection of HTML-style tags, you are in the right place. If not, right-click and select \"View page source.\"* \n",
    "\n",
    "Okay, time to explore:\n",
    "\n",
    "* Local News:\n",
    "  * __Chicago Tribune__: https://www.chicagotribune.com/about/ct-chicago-tribune-rss-feeds-htmlstory.html\n",
    "  * __The Chicago Sun Times__: https://blog.feedspot.com/chicago_sun_times_rss_feeds/\n",
    "  * __Block Club Chicago__: https://blockclubchicago.org/feed\n",
    "\n",
    "\n",
    "* National/International News: \n",
    "  * __Reuters__: https://www.reutersagency.com/en/reutersbest/reuters-best-rss-feeds/\n",
    "  * __USA Today__: http://rssfeeds.usatoday.com/usatoday-NewsTopStories\n",
    "  * __The New York Times__: https://www.nytimes.com/rss\n",
    "  * __BBC News__: http://www.bbc.com/news/10628494____\n",
    "\n",
    "\n",
    "* Technology News: \n",
    "  * __Wired.com__: https://www.wired.com/about/rss-feeds/\n",
    "  * __Ars Technica__: https://arstechnica.com/rss-feeds/\n",
    "  * __CNET__: https://www.cnet.com/rss/\n",
    "  \n",
    "  \n",
    "* Miscellaneous (Sports, Government, Science):  \n",
    "  * __ESPN__: http://www.espn.com/espn/news/story?page=rssinfo\n",
    "  * __City of Chicago__: https://www.chicago.gov/city/en/rss.html\n",
    "  * __US Congress__: https://www.congress.gov/rss\n",
    "  * __NASA__: https://www.nasa.gov/content/nasa-rss-feeds\n"
   ]
  },
  {
   "cell_type": "markdown",
   "metadata": {},
   "source": [
    "**<u>Task \\#1:<u>** After you explore a few of the feeds above, try to find an RSS feed for another website you are interested in. This may be a news website for a certain type of news you like to follow (video games, style/fashion, politics, etc). Then fill in the information below for the feed (or feeds) you found:\n",
    "\n",
    "Organization(s): \n",
    "\n",
    "URL(s): \n",
    "\n",
    "Description(s): \n"
   ]
  },
  {
   "cell_type": "markdown",
   "metadata": {},
   "source": [
    "#### <u>An RSS Feed from the Wall Street Journal</u>\n",
    "\n",
    "The beauty of an RSS feed is that its content is updated regularly, but the structure of its tags always stays the same. This allows you to extract up-to-date data in an automated fashion. \n",
    "\n",
    "For example, here are the top stories from the \"global news\" section of _The Wall Street Journal_ from their RSS feed: https://feeds.a.dj.com/rss/RSSWSJD.xml\n",
    "\n",
    "After looking at this link in Chrome, explore it using Beautiful Soup:"
   ]
  },
  {
   "cell_type": "code",
   "execution_count": null,
   "metadata": {},
   "outputs": [],
   "source": [
    "from bs4 import BeautifulSoup       # Import BeautifulSoup\n",
    "from urllib.request import urlopen  # Import urlopen\n",
    "\n",
    "xml_page = urlopen(\"https://feeds.a.dj.com/rss/RSSWSJD.xml\")   # Opens whatever page we are requesting\n",
    "bs_obj = BeautifulSoup(xml_page, 'xml')  # Extract xml data\n",
    "\n",
    "print(bs_obj.prettify())  # Makes it more easily readible or 'pretty'"
   ]
  },
  {
   "cell_type": "markdown",
   "metadata": {},
   "source": [
    "Now you can get a list of all headlines:"
   ]
  },
  {
   "cell_type": "code",
   "execution_count": null,
   "metadata": {},
   "outputs": [],
   "source": [
    "headlines = bs_obj.find_all('title') # Extracts and creates a list of all the <title> tags\n",
    "\n",
    "print(headlines)"
   ]
  },
  {
   "cell_type": "markdown",
   "metadata": {},
   "source": [
    "If you want to strip out the `<title>` tags, use the *.getText()* method:"
   ]
  },
  {
   "cell_type": "code",
   "execution_count": null,
   "metadata": {},
   "outputs": [],
   "source": [
    "headlines = [story.getText() for story in headlines] # Creates a list of innerHTML for each <title> tag in headlines list\n",
    "\n",
    "print(headlines)"
   ]
  },
  {
   "cell_type": "markdown",
   "metadata": {},
   "source": [
    "In this feed, the first two titles appear to be for the news website rather than for news stories themselves. This is an easy fix:"
   ]
  },
  {
   "cell_type": "code",
   "execution_count": null,
   "metadata": {},
   "outputs": [],
   "source": [
    "headlines = headlines[2:]\n",
    "\n",
    "print(headlines)"
   ]
  },
  {
   "cell_type": "markdown",
   "metadata": {},
   "source": [
    "Let's do the same thing with links to these stories by creating a list of all links"
   ]
  },
  {
   "cell_type": "code",
   "execution_count": null,
   "metadata": {},
   "outputs": [],
   "source": [
    "urls = bs_obj.find_all('link')            # Extracts and creates a list of all the <link> tags\n",
    "urls = [link.getText() for link in urls]  # Creates a list of innerHTML for each <link> tag in the urls list\n",
    "print(urls)"
   ]
  },
  {
   "cell_type": "markdown",
   "metadata": {},
   "source": [
    "This time, it looks like the third link is where we want to start (The second entry is an empty String!)"
   ]
  },
  {
   "cell_type": "code",
   "execution_count": null,
   "metadata": {},
   "outputs": [],
   "source": [
    "urls = urls[3:]\n",
    "\n",
    "print(urls)"
   ]
  },
  {
   "cell_type": "markdown",
   "metadata": {},
   "source": [
    "**<u>Task \\#2:</u>** Write a function, *random_headline(headline_list, link_list)*, that accepts a list of headlines and a list of links as input and returns an output string in the format \"HEADLINE, read more at LINK.\"\n",
    "\n",
    "*Note: Be sure to test out your function to make sure it works as expected. Show the results of your tests below.  Also, not all headlines may have a link, and your two arrays may not be 'parallel'.  Try re-running the cells for the most up-to-date listings!*"
   ]
  },
  {
   "cell_type": "markdown",
   "metadata": {},
   "source": [
    "#### <u>HINT:</u>\n",
    "* Import random to create random #'s\n",
    "* Create a function named random_headline(headline_list, link_list)\n",
    "    * Generate a random number between 0 and one less than the length of headline_list\n",
    "    * Create a variable to hold the value of headline_list at the index of the randomly generated number\n",
    "    * Create a variable to hold the value of link_list at the index of the randomly generated number\n",
    "    * Create an output string in the format \"HEADLINE, read more at LINK\" replacing HEADLINE and LINK with your variables\n",
    "    * Return the output string"
   ]
  },
  {
   "cell_type": "code",
   "execution_count": null,
   "metadata": {},
   "outputs": [],
   "source": [
    "# Your code here\n"
   ]
  },
  {
   "cell_type": "markdown",
   "metadata": {},
   "source": [
    "### <u>Processing Other RSS Feeds</u>\n",
    "\n",
    "You already perused a few RSS feeds. This time, pick one of those feeds (or a new one) and explore it by writing code. As a reminder, here are the feeds listed above: \n",
    "\n",
    "* Local News:\n",
    "  * __Chicago Tribune__: https://www.chicagotribune.com/about/ct-chicago-tribune-rss-feeds-htmlstory.html\n",
    "  * __The Chicago Sun Times__: https://blog.feedspot.com/chicago_sun_times_rss_feeds/\n",
    "  * __Block Club Chicago__: https://blockclubchicago.org/feed\n",
    "\n",
    "\n",
    "* National/International News: \n",
    "  * __Reuters__: https://www.reutersagency.com/en/reutersbest/reuters-best-rss-feeds/\n",
    "  * __USA Today__: http://rssfeeds.usatoday.com/usatoday-NewsTopStories\n",
    "  * __The New York Times__: https://www.nytimes.com/rss\n",
    "  * __BBC News__: http://www.bbc.com/news/10628494\n",
    "\n",
    "\n",
    "* Technology News: \n",
    "  * __Wired.com__: https://www.wired.com/about/rss-feeds/\n",
    "  * __Ars Technica__: https://arstechnica.com/rss-feeds/\n",
    "  * __CNET__: https://www.cnet.com/rss/\n",
    "  \n",
    "  \n",
    "* Miscellaneous (Sports, Government, Science):  \n",
    "  * __ESPN__: http://www.espn.com/espn/news/story?page=rssinfo\n",
    "  * __City of Chicago__: https://www.chicago.gov/city/en/rss.html\n",
    "  * __US Congress__: https://www.congress.gov/rss\n",
    "  * __NASA__: https://www.nasa.gov/content/nasa-rss-feeds"
   ]
  },
  {
   "cell_type": "markdown",
   "metadata": {},
   "source": [
    "**<u>Task \\#3:</u>** Pick one or more of the feeds above (or find your own). Experiment using Python code, and show the results of your experimentation below. \n",
    "\n",
    "**<u>Note:</u>** This question is fairly open-ended, but at a minimum you must do the following: \n",
    "\n",
    "* Create a \"random headline\"-style function like you did above. You should not expect code such as *headlines = headlines[2:]* or *urls = urls[3:]* to fit perfectly with your data since these were modifications that may be specific to the way *The Wall Street Journal*'s RSS feed is organized.\n",
    "\n",
    "* You must show that you engaged with the feed(s) you picked using the Beautiful Soup module and at least one Python data structure (probably lists). You will need to analyze the XML for the feed you pick and write your code to fit with the data. "
   ]
  },
  {
   "cell_type": "code",
   "execution_count": null,
   "metadata": {},
   "outputs": [],
   "source": [
    "# Your code here\n"
   ]
  }
 ],
 "metadata": {
  "anaconda-cloud": {},
  "kernelspec": {
   "display_name": "Python 3",
   "language": "python",
   "name": "python3"
  },
  "language_info": {
   "codemirror_mode": {
    "name": "ipython",
    "version": 3
   },
   "file_extension": ".py",
   "mimetype": "text/x-python",
   "name": "python",
   "nbconvert_exporter": "python",
   "pygments_lexer": "ipython3",
   "version": "3.7.4"
  }
 },
 "nbformat": 4,
 "nbformat_minor": 1
}
