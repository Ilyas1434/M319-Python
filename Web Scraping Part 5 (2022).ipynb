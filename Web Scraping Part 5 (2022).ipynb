{
 "cells": [
  {
   "cell_type": "markdown",
   "metadata": {},
   "source": [
    "# <u>Web Scraping Part 5: Accessing the Twitter API</u>\n",
    "\n",
    "This is an **optional** notebook that you can work through if you would like to try accessing the Twitter API. This notebook will allow us to scrape data from Twitter rather than from the web. \n",
    "\n",
    "## <u>Part \\#1: Update Tweepy</u>\n",
    "\n",
    "We will be using the *tweepy* module to interact with the Twitter API. You can read about *tweepy* here: https://docs.tweepy.org/en/stable/\n",
    "\n",
    "In order to make sure you have the most up-to-date version of *tweepy* installed, please follow these steps: \n",
    "\n",
    "  * Type *Anaconda powershell* in the Windows search bar and press *Enter*\n",
    "  * Type *conda install -c conda-forge tweepy* and press enter\n",
    "  * When prompted, tType *y* and press *Enter*\n",
    "\n",
    "*Note: The steps above could take several minutes or longer.*\n",
    "\n",
    "\n",
    "\n",
    "## <u>Part \\#2: Create A Twitter Developer Account</u>\n",
    "\n",
    "In this notebook, you will create a Twitter Developer Account. Here are some guidelines you will have to follow throughout this chapter: \n",
    "\n",
    "### <u>Classroom Expectations and Ethical Twitter Usage</u>\n",
    "\n",
    "* This notebook will result in you having a Twitter account that is capable of sending tweets\n",
    "  * These notebooks will not require you to send out any tweets, but if you do: \n",
    "    * Any tweets you send will be visible to your teacher, your classmates, the Fremd community, and the broader Internet\n",
    "    * You are representing Fremd High School with any tweets you send\n",
    "    * Profanity, harassment, spamming, or any other misbehavior will result in a discipline referral and being reassigned a new project\n",
    "  \n",
    "* These notebooks will involve you collecting data directly from Twitter:\n",
    "  * Keep all searches for tweets and hashtags school appropriate\n",
    "  * Even if you search is appropriate, there is always the chance of encountering an inappropriate tweet\n",
    "    * If this happens, simply pick a new search\n",
    "\n",
    "Now that this is done, let's create a Twitter account:"
   ]
  },
  {
   "cell_type": "markdown",
   "metadata": {},
   "source": [
    "### <u>Step 1: Sign Up For a Twitter Account</u>\n",
    "\n",
    "Follow the instructions below step-by-step without working ahead of the screenshots. First go to https://twitter.com and either sign up for a new account (suggested) or log into your personal account.  \n",
    "\n",
    "*Note: Your account will have to be verified with your phone number in order to gain API access. If you don't want to verify your personal account with a phone number, then you should create a new account.*"
   ]
  },
  {
   "cell_type": "code",
   "execution_count": null,
   "metadata": {},
   "outputs": [],
   "source": [
    "from IPython.display import Image\n",
    "Image(filename=\"Screenshots2022/1_Login.jpg\")"
   ]
  },
  {
   "cell_type": "markdown",
   "metadata": {},
   "source": [
    "### <u>Step 2: Enter Your Phone Number or Email</u>\n",
    "\n",
    "Use whichever method is easiest and most convenient for you!  Both will accomplish the same task of creating an account.  You may use your D211 email address if you choose to sign up via an email address.\n",
    "\n",
    "**NOTE:** You will eventually need to verify your email!"
   ]
  },
  {
   "cell_type": "code",
   "execution_count": null,
   "metadata": {},
   "outputs": [],
   "source": [
    "from IPython.display import Image\n",
    "Image(filename=\"Screenshots2022/2_AccountCreation.jpg\")"
   ]
  },
  {
   "cell_type": "markdown",
   "metadata": {},
   "source": [
    "You'll need to follow a few more prompts. You might want to \"uncheck\" this one: "
   ]
  },
  {
   "cell_type": "code",
   "execution_count": null,
   "metadata": {},
   "outputs": [],
   "source": [
    "from IPython.display import Image\n",
    "Image(filename=\"Screenshots2022/3_Customize.jpg\")"
   ]
  },
  {
   "cell_type": "markdown",
   "metadata": {},
   "source": [
    "This will be your username. You can always change it later, but you might want to pick username that you would like to use in the future: "
   ]
  },
  {
   "cell_type": "code",
   "execution_count": null,
   "metadata": {},
   "outputs": [],
   "source": [
    "from IPython.display import Image\n",
    "Image(filename=\"Screenshots2022/4_Create.jpg\")"
   ]
  },
  {
   "cell_type": "markdown",
   "metadata": {},
   "source": [
    "### <u>Step 3: Enter Verification Code</u>\n",
    "\n",
    "After a few more steps, you will eventually get to a prompt for entering a verification code. This will be sent to your device via SMS text or email, depending on your sign-up selection."
   ]
  },
  {
   "cell_type": "code",
   "execution_count": null,
   "metadata": {},
   "outputs": [],
   "source": [
    "from IPython.display import Image\n",
    "Image(filename=\"Screenshots2022/5_Verification.jpg\")"
   ]
  },
  {
   "cell_type": "markdown",
   "metadata": {},
   "source": [
    "### <u>Step 4: Create a Password</u>\n",
    "\n",
    "**REMINDER:** You shouldn't reuse passwords!  If you struggle to remember passwords, try using different variations/combinations of your favorite word/phrase."
   ]
  },
  {
   "cell_type": "code",
   "execution_count": null,
   "metadata": {},
   "outputs": [],
   "source": [
    "from IPython.display import Image\n",
    "Image(filename=\"Screenshots2022/6_Password.jpg\")"
   ]
  },
  {
   "cell_type": "markdown",
   "metadata": {},
   "source": [
    "### <u>Step 5: Finish Setting Up Your Profile</u>\n",
    "\n",
    "You might get prompted for a few more steps. Please follow these until your account is fully set up. "
   ]
  },
  {
   "cell_type": "code",
   "execution_count": null,
   "metadata": {},
   "outputs": [],
   "source": [
    "from IPython.display import Image\n",
    "Image(filename=\"Screenshots2022/7_ProfilePicture.jpg\")"
   ]
  },
  {
   "cell_type": "markdown",
   "metadata": {},
   "source": [
    "If you forgot to put in your phone number earlier, this is your chance to fix this so that you can access the Twitter API:"
   ]
  },
  {
   "cell_type": "code",
   "execution_count": null,
   "metadata": {},
   "outputs": [],
   "source": [
    "from IPython.display import Image\n",
    "Image(filename=\"Screenshots2022/8_PhoneNumber.jpg\")"
   ]
  },
  {
   "cell_type": "markdown",
   "metadata": {},
   "source": [
    "### <u>Step 6: Go to the Twitter Developer Portal</u>\n",
    "\n",
    "Go to https://developer.twitter.com/ and follow the prompts to get \"Essential\" access. This process will allow your acount to access the Twitter API. "
   ]
  },
  {
   "cell_type": "code",
   "execution_count": null,
   "metadata": {},
   "outputs": [],
   "source": [
    "from IPython.display import Image\n",
    "Image(filename=\"Screenshots2022/9_DeveloperAccount.jpg\")"
   ]
  },
  {
   "cell_type": "markdown",
   "metadata": {},
   "source": [
    "### <u>Step 7: Continue Filling Out the Application</u>\n",
    "* You will first be prompted for information about yourself:"
   ]
  },
  {
   "cell_type": "code",
   "execution_count": null,
   "metadata": {},
   "outputs": [],
   "source": [
    "from IPython.display import Image\n",
    "Image(filename=\"Screenshots2022/10_RequiredDeveloperInfo.jpg\")"
   ]
  },
  {
   "cell_type": "markdown",
   "metadata": {},
   "source": [
    "You have to agree to the terms of service: "
   ]
  },
  {
   "cell_type": "code",
   "execution_count": null,
   "metadata": {},
   "outputs": [],
   "source": [
    "from IPython.display import Image\n",
    "Image(filename=\"Screenshots2022/11_Agreement.jpg\")"
   ]
  },
  {
   "cell_type": "markdown",
   "metadata": {},
   "source": [
    "You'll have to verify your email address if you haven't done so already: "
   ]
  },
  {
   "cell_type": "code",
   "execution_count": null,
   "metadata": {},
   "outputs": [],
   "source": [
    "from IPython.display import Image\n",
    "Image(filename=\"Screenshots2022/12_VerifyApplication.jpg\")"
   ]
  },
  {
   "cell_type": "markdown",
   "metadata": {},
   "source": [
    "Open your email and click the link in the message you received from Twitter: "
   ]
  },
  {
   "cell_type": "code",
   "execution_count": null,
   "metadata": {},
   "outputs": [],
   "source": [
    "from IPython.display import Image\n",
    "Image(filename=\"Screenshots2022/13_ConfirmEmail.jpg\")"
   ]
  },
  {
   "cell_type": "markdown",
   "metadata": {},
   "source": [
    "You'll have to give your \"app\" a name. The name you pick must be unique (meaning that it is different from all other app created by Twitter users). This doesn't have to be perfect, you can change the name later if you'd like.  "
   ]
  },
  {
   "cell_type": "code",
   "execution_count": null,
   "metadata": {},
   "outputs": [],
   "source": [
    "from IPython.display import Image\n",
    "Image(filename=\"Screenshots2022/14_NameTheApp.jpg\")"
   ]
  },
  {
   "cell_type": "markdown",
   "metadata": {},
   "source": [
    "### <u>Step 8: Save Keys</u>\n",
    "\n",
    "Finally, you will be shown your API Key, API Key Secret, and Bearer Token. Please save these somewhere where you have easy access to the information (maybe a Google Doc?). "
   ]
  },
  {
   "cell_type": "code",
   "execution_count": null,
   "metadata": {},
   "outputs": [],
   "source": [
    "from IPython.display import Image\n",
    "Image(filename=\"Screenshots2022/15_Keys.jpg\")"
   ]
  },
  {
   "cell_type": "markdown",
   "metadata": {},
   "source": [
    "### <u>Step 9: Turn on OAuth 2.0 Authentication</u>\n",
    "\n",
    "We need to have authentication turned on. Please click on your app and click the \"Set Up\" button:"
   ]
  },
  {
   "cell_type": "code",
   "execution_count": null,
   "metadata": {},
   "outputs": [],
   "source": [
    "from IPython.display import Image\n",
    "Image(filename=\"Screenshots2022/17_OAuth2.jpg\")"
   ]
  },
  {
   "cell_type": "markdown",
   "metadata": {},
   "source": [
    "Turn on OAuth 2.0: "
   ]
  },
  {
   "cell_type": "code",
   "execution_count": null,
   "metadata": {},
   "outputs": [],
   "source": [
    "from IPython.display import Image\n",
    "Image(filename=\"Screenshots2022/18_Oauth2_TurnOn.jpg\")"
   ]
  },
  {
   "cell_type": "markdown",
   "metadata": {},
   "source": [
    "Fill in the requested information below using the provided screenshot as a template: "
   ]
  },
  {
   "cell_type": "code",
   "execution_count": null,
   "metadata": {},
   "outputs": [],
   "source": [
    "from IPython.display import Image\n",
    "Image(filename=\"Screenshots2022/19_Info.jpg\")"
   ]
  },
  {
   "cell_type": "markdown",
   "metadata": {},
   "source": [
    "Don't forget to click \"Save\": "
   ]
  },
  {
   "cell_type": "code",
   "execution_count": null,
   "metadata": {},
   "outputs": [],
   "source": [
    "from IPython.display import Image\n",
    "Image(filename=\"Screenshots2022/20_Save.jpg\")"
   ]
  },
  {
   "cell_type": "markdown",
   "metadata": {},
   "source": [
    "Finally, save your Client ID and Client Secret with your other information: "
   ]
  },
  {
   "cell_type": "code",
   "execution_count": null,
   "metadata": {},
   "outputs": [],
   "source": [
    "from IPython.display import Image\n",
    "Image(filename=\"Screenshots2022/21_ClientIDSecret.jpg\")"
   ]
  },
  {
   "cell_type": "markdown",
   "metadata": {},
   "source": [
    "Now you are done! You can move on to the next notebook so you can actually try to use the Twitter API. "
   ]
  },
  {
   "cell_type": "code",
   "execution_count": null,
   "metadata": {},
   "outputs": [],
   "source": []
  }
 ],
 "metadata": {
  "kernelspec": {
   "display_name": "Python 3 (ipykernel)",
   "language": "python",
   "name": "python3"
  },
  "language_info": {
   "codemirror_mode": {
    "name": "ipython",
    "version": 3
   },
   "file_extension": ".py",
   "mimetype": "text/x-python",
   "name": "python",
   "nbconvert_exporter": "python",
   "pygments_lexer": "ipython3",
   "version": "3.9.7"
  }
 },
 "nbformat": 4,
 "nbformat_minor": 1
}
